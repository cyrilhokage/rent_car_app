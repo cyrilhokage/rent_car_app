{
 "cells": [
  {
   "cell_type": "markdown",
   "metadata": {},
   "source": [
    "# <center> <u> Test technique Deezer Cyrille NOUBOUE </u> </center>"
   ]
  },
  {
   "cell_type": "markdown",
   "metadata": {},
   "source": [
    "## <u> Level 1:</u>\n",
    "\n",
    "### Intro\n",
    "***\n",
    "We are building a peer-to-peer car rental service. Let's call it Getaround :)\n",
    "\n",
    "Here is our plan:\n",
    "\n",
    "    - Let any car owner list her car on our platform\n",
    "    - Let any person (let's call him 'driver') book a car for given dates/distance\n",
    "\n",
    "### Level 1\n",
    "***\n",
    "The car owner chooses a price per day and price per km for her car. The driver then books the car for a given period and an approximate distance.\n",
    "\n",
    "The rental price is the sum of:\n",
    "\n",
    "    - A time component: the number of rental days multiplied by the car's price per day\n",
    "    - A distance component: the number of km multiplied by the car's price per km"
   ]
  },
  {
   "cell_type": "code",
   "execution_count": 1,
   "metadata": {},
   "outputs": [],
   "source": [
    "class Vehicle():\n",
    "    \n",
    "    def __init__(self, p_id, price_per_day, price_per_km):\n",
    "        self.car_id = p_id\n",
    "        self.price_per_day = price_per_day\n",
    "        self.price_per_km = price_per_km\n",
    "        \n",
    "    def get_rental_price(self, nb_days, nb_km):\n",
    "        return nb_days * self.price_per_day + nb_km * self.price_per_km\n",
    "        "
   ]
  },
  {
   "cell_type": "code",
   "execution_count": 2,
   "metadata": {},
   "outputs": [],
   "source": [
    "import datetime\n",
    "\n",
    "class Rental():\n",
    "    \n",
    "    def __init__(self, rent_id, vehicle, start_date, end_date, distance):\n",
    "        \n",
    "        self.rental = rent_id\n",
    "        self.vehicle = vehicle\n",
    "        self.start_date = start_date\n",
    "        self.end_date = end_date\n",
    "        self.distance = distance\n",
    "        \n",
    "        #Calculate number of days\n",
    "        diff_date = datetime.datetime.strptime(end_date, '%Y-%m-%d') - datetime.datetime.strptime(start_date, '%Y-%m-%d') #Calculate the number of days\n",
    "        nb_days = diff_date.days + 1\n",
    "        self.price = self.vehicle.get_rental_price(nb_days, distance) #Set the rental price \n",
    "        "
   ]
  },
  {
   "cell_type": "code",
   "execution_count": 3,
   "metadata": {},
   "outputs": [],
   "source": [
    "veh = Vehicle(1, 2000, 10)"
   ]
  },
  {
   "cell_type": "code",
   "execution_count": 4,
   "metadata": {},
   "outputs": [],
   "source": [
    "my_rent = Rental(1, veh, \"2015-03-31\", \"2015-04-01\", 300)"
   ]
  },
  {
   "cell_type": "code",
   "execution_count": 5,
   "metadata": {},
   "outputs": [
    {
     "data": {
      "text/plain": [
       "7000"
      ]
     },
     "execution_count": 5,
     "metadata": {},
     "output_type": "execute_result"
    }
   ],
   "source": [
    "my_rent.price"
   ]
  },
  {
   "cell_type": "markdown",
   "metadata": {},
   "source": [
    "## <u>Level 2</u>\n",
    "***\n",
    "\n",
    "To be as competitive as possible, we decide to have a decreasing pricing for longer rentals.\n",
    "\n",
    "New rules:\n",
    "\n",
    "price per day decreases by 10% after 1 day\n",
    "price per day decreases by 30% after 4 days\n",
    "price per day decreases by 50% after 10 days\n",
    "Adapt the rental price computation to take these new rules into account."
   ]
  },
  {
   "cell_type": "code",
   "execution_count": 6,
   "metadata": {},
   "outputs": [],
   "source": [
    "class Vehicle():\n",
    "    \n",
    "    def __init__(self, p_id, price_per_day, price_per_km):\n",
    "        self.car_id = p_id\n",
    "        self.price_per_day = price_per_day\n",
    "        self.price_per_km = price_per_km\n",
    "        \n",
    "        \n",
    "    def calculate_ndays_fees(self, n_days):\n",
    "        paliers = [1, 3, 6, 10e4]\n",
    "        i = 0\n",
    "        list_days = [0, 0, 0, 0]\n",
    "\n",
    "        while(n_days > paliers[i]):\n",
    "            n_days = n_days - paliers[i]\n",
    "            list_days[i] = paliers[i]\n",
    "            i += 1\n",
    "        list_days[i] = n_days\n",
    "\n",
    "        return list_days\n",
    "    \n",
    "        \n",
    "    def get_rental_price(self, nb_days, nb_km):\n",
    "        \n",
    "        # Get different days with particular discount rates\n",
    "        list_ndays = self.calculate_ndays_fees(nb_days)\n",
    "        discount_rates = [1, 0.9, 0.7, 0.5]\n",
    "        \n",
    "        # Calculate price with nb_km\n",
    "        price = nb_km * self.price_per_km \n",
    "        \n",
    "        # Calculate price with nb_days and different discount rates\n",
    "        for i in range(len(discount_rates)):\n",
    "            price += list_ndays[i] * discount_rates[i] * self.price_per_day\n",
    "\n",
    "        return price\n",
    "        "
   ]
  },
  {
   "cell_type": "code",
   "execution_count": 7,
   "metadata": {},
   "outputs": [],
   "source": [
    "veh = Vehicle(1, 2000, 10)"
   ]
  },
  {
   "cell_type": "code",
   "execution_count": 8,
   "metadata": {},
   "outputs": [],
   "source": [
    "my_rent = Rental(1, veh, \"2015-07-3\", \"2015-07-14\", 1000)"
   ]
  },
  {
   "cell_type": "code",
   "execution_count": 9,
   "metadata": {},
   "outputs": [
    {
     "data": {
      "text/plain": [
       "27800.0"
      ]
     },
     "execution_count": 9,
     "metadata": {},
     "output_type": "execute_result"
    }
   ],
   "source": [
    "my_rent.price"
   ]
  },
  {
   "cell_type": "markdown",
   "metadata": {},
   "source": [
    "## <u>Level 3</u>\n",
    "***\n",
    "\n",
    "The car owner now wants her money. We decide to take a 30% commission on the rental price to cover our costs and have a solid business model.\n",
    "\n",
    "The commission is split like this:\n",
    "\n",
    "    - half goes to the insurance\n",
    "    - 1€/day goes to the roadside assistance\n",
    "    - the rest goes to us\n",
    "    \n",
    "Compute the amount that belongs to the insurance, to the assistance and to us."
   ]
  },
  {
   "cell_type": "code",
   "execution_count": 10,
   "metadata": {},
   "outputs": [],
   "source": [
    "import datetime\n",
    "\n",
    "class Rental():\n",
    "    \n",
    "    def __init__(self, rent_id, vehicle, start_date, end_date, distance):\n",
    "        \n",
    "        self.rent_id = rent_id\n",
    "        self.vehicle = vehicle\n",
    "        self.start_date = start_date\n",
    "        self.end_date = end_date\n",
    "        self.distance = distance\n",
    "        self.commission = dict()\n",
    "        \n",
    "        #Calculate number of days\n",
    "        diff_date = datetime.datetime.strptime(end_date, '%Y-%m-%d') - datetime.datetime.strptime(start_date, '%Y-%m-%d') #Calculate the number of days\n",
    "        self.nb_days = diff_date.days + 1\n",
    "        self.price = self.vehicle.get_rental_price(self.nb_days, distance) #Set the rental price \n",
    "     \n",
    "    \n",
    "        #Share rental revenues between car owner, the company, the insurance & the roadside assistance\n",
    "\n",
    "        # For Assistance_fee, it is say in the instructions that it is 1€ per day of reservation\n",
    "        # but to match the output file expectations,\n",
    "        # i have to multiply it by 100\n",
    "                \n",
    "          # for drivy_fee, we assume the commission will\n",
    "          # always be positive, if not it will count\n",
    "          # as a company loss or debt\n",
    "        \n",
    "        self.commission = {\n",
    "            \"insurance_fee\": self.price * 0.3 * 0.5,\n",
    "            \"assistance_fee\": self.nb_days * 100,\n",
    "            \"drivy_fee\": self.price * 0.3 - self.price * 0.3 * 0.5 - self.nb_days * 100 \n",
    "         }                                                   \n",
    "        "
   ]
  },
  {
   "cell_type": "code",
   "execution_count": 11,
   "metadata": {},
   "outputs": [],
   "source": [
    "veh = Vehicle(1, 2000, 10)"
   ]
  },
  {
   "cell_type": "code",
   "execution_count": 12,
   "metadata": {},
   "outputs": [],
   "source": [
    "my_rent = Rental(1, veh, \"2015-07-3\", \"2015-07-14\", 1000)"
   ]
  },
  {
   "cell_type": "code",
   "execution_count": 13,
   "metadata": {},
   "outputs": [
    {
     "data": {
      "text/plain": [
       "27800.0"
      ]
     },
     "execution_count": 13,
     "metadata": {},
     "output_type": "execute_result"
    }
   ],
   "source": [
    "my_rent.price"
   ]
  },
  {
   "cell_type": "code",
   "execution_count": 14,
   "metadata": {},
   "outputs": [
    {
     "data": {
      "text/plain": [
       "{'insurance_fee': 4170.0, 'assistance_fee': 1200, 'drivy_fee': 2970.0}"
      ]
     },
     "execution_count": 14,
     "metadata": {},
     "output_type": "execute_result"
    }
   ],
   "source": [
    "my_rent.commission"
   ]
  },
  {
   "cell_type": "markdown",
   "metadata": {},
   "source": [
    "## <u>Level 4</u>\n",
    "***\n",
    "\n",
    "We now want to know how much money must be debited/credited for each actor, this will allow us to debit or pay them accordingly."
   ]
  },
  {
   "cell_type": "code",
   "execution_count": 15,
   "metadata": {},
   "outputs": [],
   "source": [
    "import datetime\n",
    "\n",
    "class Rental():\n",
    "    \n",
    "    def __init__(self, rent_id, vehicle, start_date, end_date, distance):\n",
    "        \n",
    "        self.rent_id = rent_id\n",
    "        self.vehicle = vehicle\n",
    "        self.start_date = start_date\n",
    "        self.end_date = end_date\n",
    "        self.distance = distance\n",
    "        self.commission = dict()\n",
    "        \n",
    "        #Calculate number of days\n",
    "        diff_date = datetime.datetime.strptime(end_date, '%Y-%m-%d') - datetime.datetime.strptime(start_date, '%Y-%m-%d') #Calculate the number of days\n",
    "        self.nb_days = diff_date.days + 1\n",
    "        self.price = self.vehicle.get_rental_price(self.nb_days, distance) #Set the rental price \n",
    "     \n",
    "    \n",
    "        #Share rental revenues between car owner, the company, the insurance & the roadside assistance\n",
    "\n",
    "        # For Assistance_fee, it is say in the instructions that it is 1€ per day of reservation\n",
    "        # but to match the output file expectations,\n",
    "        # i have to multiply it by 100\n",
    "                \n",
    "          # for drivy_fee, we assume the commission will\n",
    "          # always be positive, if not it will count\n",
    "          # as a company loss or debt\n",
    "        \n",
    "        self.commission = {\n",
    "            \"insurance_fee\": self.price * 0.3 * 0.5,\n",
    "            \"assistance_fee\": self.nb_days * 100,\n",
    "            \"drivy_fee\": self.price * 0.3 - self.price * 0.3 * 0.5 - self.nb_days * 100 \n",
    "         } \n",
    "        \n",
    "        #Level 4 : Actions\n",
    "        driver_debit = self.price \n",
    "        owner_fee = self.price * 0.7\n",
    "        insurance_fee = self.commission[\"insurance_fee\"]\n",
    "        assistance_fee = self.commission[\"assistance_fee\"]\n",
    "        drivy_fee = self.commission[\"drivy_fee\"]\n",
    "        \n",
    "        self.set_actions(driver_debit = driver_debit,\n",
    "                         owner_fee = owner_fee,\n",
    "                         insurance_fee = insurance_fee,\n",
    "                         assistance_fee = assistance_fee,\n",
    "                         drivy_fee = drivy_fee)\n",
    "        \n",
    "    \n",
    "    def set_actions(self, driver_debit, owner_fee, insurance_fee,\n",
    "                    assistance_fee, drivy_fee):\n",
    "        \n",
    "        #Level 4 : Actions\n",
    "        self.actions =  [\n",
    "            {\n",
    "              \"who\": \"driver\",\n",
    "              \"type\": \"debit\",\n",
    "              \"amount\": driver_debit\n",
    "            },\n",
    "            {\n",
    "              \"who\": \"owner\",\n",
    "              \"type\": \"credit\",\n",
    "              \"amount\": owner_fee\n",
    "            },\n",
    "            {\n",
    "              \"who\": \"insurance\",\n",
    "              \"type\": \"credit\",\n",
    "              \"amount\": insurance_fee\n",
    "            },\n",
    "            {\n",
    "              \"who\": \"assistance\",\n",
    "              \"type\": \"credit\",\n",
    "              \"amount\": assistance_fee\n",
    "            },\n",
    "            {\n",
    "              \"who\": \"drivy\",\n",
    "              \"type\": \"credit\",\n",
    "              \"amount\": drivy_fee\n",
    "            }\n",
    "          ]\n",
    "        "
   ]
  },
  {
   "cell_type": "code",
   "execution_count": 16,
   "metadata": {},
   "outputs": [],
   "source": [
    "my_rent = Rental(1, veh, \"2015-07-3\", \"2015-07-14\", 1000)"
   ]
  },
  {
   "cell_type": "code",
   "execution_count": 17,
   "metadata": {},
   "outputs": [],
   "source": [
    "my_rent = Rental(1, veh, \"2015-03-31\", \"2015-04-01\", 300)"
   ]
  },
  {
   "cell_type": "code",
   "execution_count": 18,
   "metadata": {},
   "outputs": [
    {
     "data": {
      "text/plain": [
       "[{'who': 'driver', 'type': 'debit', 'amount': 6800.0},\n",
       " {'who': 'owner', 'type': 'credit', 'amount': 4760.0},\n",
       " {'who': 'insurance', 'type': 'credit', 'amount': 1020.0},\n",
       " {'who': 'assistance', 'type': 'credit', 'amount': 200},\n",
       " {'who': 'drivy', 'type': 'credit', 'amount': 820.0}]"
      ]
     },
     "execution_count": 18,
     "metadata": {},
     "output_type": "execute_result"
    }
   ],
   "source": [
    "my_rent.actions"
   ]
  },
  {
   "cell_type": "markdown",
   "metadata": {},
   "source": [
    "## <u>Level 5</u>\n",
    "***\n",
    "\n",
    "Some drivers want to be able to buy additionnal features after their booking.\n",
    "\n",
    "Here are the possible options:\n",
    "\n",
    "    - GPS: 5€/day, all the money goes to the owner\n",
    "    - Baby Seat: 2€/day, all the money goes to the owner\n",
    "    - Additional Insurance: 10€/day, all the money goes to Getaround\n",
    "\n",
    "This is the final level, now would be a good time to tidy up your code and do a last round of refactoring :)"
   ]
  },
  {
   "cell_type": "code",
   "execution_count": 19,
   "metadata": {},
   "outputs": [],
   "source": [
    "import datetime\n",
    "\n",
    "class Rental():\n",
    "    \n",
    "    def __init__(self, rent_id, vehicle, start_date, end_date, distance):\n",
    "        \n",
    "        self.rent_id = rent_id\n",
    "        self.vehicle = vehicle\n",
    "        self.start_date = start_date\n",
    "        self.end_date = end_date\n",
    "        self.distance = distance\n",
    "        self.commission = dict()\n",
    "        \n",
    "        #Calculate number of days\n",
    "        diff_date = datetime.datetime.strptime(end_date, '%Y-%m-%d') - datetime.datetime.strptime(start_date, '%Y-%m-%d') #Calculate the number of days\n",
    "        self.nb_days = diff_date.days + 1\n",
    "        self.base_price = self.vehicle.get_rental_price(self.nb_days, distance) #Set the rental price \n",
    "     \n",
    "    \n",
    "        #Share rental revenues between car owner, the company, the insurance & the roadside assistance\n",
    "\n",
    "        # For Assistance_fee, it is say in the instructions that it is 1€ per day of reservation\n",
    "        # but to match the output file expectations,\n",
    "        # i have to multiply it by 100\n",
    "                \n",
    "          # for drivy_fee, we assume the commission will\n",
    "          # always be positive, if not it will count\n",
    "          # as a company loss or debt\n",
    "        \n",
    "        self.commission = {\n",
    "            \"insurance_fee\": self.base_price * 0.3 * 0.5,\n",
    "            \"assistance_fee\": self.nb_days * 100,\n",
    "            \"drivy_fee\": self.base_price * 0.3 - self.base_price * 0.3 * 0.5 - self.nb_days * 100 \n",
    "         }\n",
    "        \n",
    "        \n",
    "        #For Level 5 : Additional options\n",
    "        self.options = []\n",
    "        self.gps_fee = 0\n",
    "        self.baby_seat_fee = 0\n",
    "        self.add_insurance_fee = 0\n",
    "        \n",
    "        \n",
    "        \n",
    "    #Level 4 : Actions\n",
    "        driver_debit = self.base_price \n",
    "        owner_fee = self.base_price * 0.7\n",
    "        insurance_fee = self.commission[\"insurance_fee\"]\n",
    "        assistance_fee = self.commission[\"assistance_fee\"]\n",
    "        drivy_fee = self.commission[\"drivy_fee\"]\n",
    "        \n",
    "        self.set_actions(driver_debit = driver_debit,\n",
    "                         owner_fee = owner_fee,\n",
    "                         insurance_fee = insurance_fee,\n",
    "                         assistance_fee = assistance_fee,\n",
    "                         drivy_fee = drivy_fee)\n",
    "        \n",
    "    \n",
    "    def set_actions(self, driver_debit, owner_fee, insurance_fee,\n",
    "                    assistance_fee, drivy_fee):\n",
    "        \n",
    "        #Level 4 : Actions\n",
    "        self.actions =  [\n",
    "            {\n",
    "              \"who\": \"driver\",\n",
    "              \"type\": \"debit\",\n",
    "              \"amount\": driver_debit\n",
    "            },\n",
    "            {\n",
    "              \"who\": \"owner\",\n",
    "              \"type\": \"credit\",\n",
    "              \"amount\": owner_fee\n",
    "            },\n",
    "            {\n",
    "              \"who\": \"insurance\",\n",
    "              \"type\": \"credit\",\n",
    "              \"amount\": insurance_fee\n",
    "            },\n",
    "            {\n",
    "              \"who\": \"assistance\",\n",
    "              \"type\": \"credit\",\n",
    "              \"amount\": assistance_fee\n",
    "            },\n",
    "            {\n",
    "              \"who\": \"drivy\",\n",
    "              \"type\": \"credit\",\n",
    "              \"amount\": drivy_fee\n",
    "            }\n",
    "          ]\n",
    "    \n",
    "    #Level5 : Additional options\n",
    "    def add_options(self, options=[]):\n",
    "        \n",
    "        self.options = options\n",
    "        \n",
    "        #Level 5 Additional options\n",
    "        self.gps_fee = 500 * self.nb_days if(\"gps\" in self.options) else 0\n",
    "        self.baby_seat_fee = 200 * self.nb_days if(\"baby_seat\" in self.options) else 0\n",
    "        self.add_insurance_fee = 1000 * self.nb_days if(\"additional_insurance\" in self.options) else 0\n",
    "        \n",
    "        driver_debit = self.base_price + self.gps_fee + self.baby_seat_fee + self.add_insurance_fee \n",
    "        owner_fee = self.base_price * 0.7 + self.gps_fee + self.baby_seat_fee\n",
    "        insurance_fee = self.commission[\"insurance_fee\"]\n",
    "        assistance_fee = self.commission[\"assistance_fee\"]\n",
    "        drivy_fee = self.commission[\"drivy_fee\"] + self.add_insurance_fee\n",
    "    \n",
    "        \n",
    "        self.set_actions(driver_debit = driver_debit,\n",
    "                         owner_fee = owner_fee,\n",
    "                         insurance_fee = insurance_fee,\n",
    "                         assistance_fee = assistance_fee,\n",
    "                         drivy_fee = drivy_fee)\n",
    "        \n",
    "        \n",
    "        "
   ]
  },
  {
   "cell_type": "code",
   "execution_count": 20,
   "metadata": {},
   "outputs": [],
   "source": [
    "options=[\"additional_insurance\"]"
   ]
  },
  {
   "cell_type": "code",
   "execution_count": 21,
   "metadata": {},
   "outputs": [],
   "source": [
    "my_rent = Rental(1, veh, \"2015-03-31\", \"2015-04-01\", 300)"
   ]
  },
  {
   "cell_type": "code",
   "execution_count": 22,
   "metadata": {},
   "outputs": [
    {
     "data": {
      "text/plain": [
       "[{'who': 'driver', 'type': 'debit', 'amount': 6800.0},\n",
       " {'who': 'owner', 'type': 'credit', 'amount': 4760.0},\n",
       " {'who': 'insurance', 'type': 'credit', 'amount': 1020.0},\n",
       " {'who': 'assistance', 'type': 'credit', 'amount': 200},\n",
       " {'who': 'drivy', 'type': 'credit', 'amount': 820.0}]"
      ]
     },
     "execution_count": 22,
     "metadata": {},
     "output_type": "execute_result"
    }
   ],
   "source": [
    "my_rent.actions"
   ]
  },
  {
   "cell_type": "code",
   "execution_count": 23,
   "metadata": {},
   "outputs": [],
   "source": [
    "my_rent.add_options(options)"
   ]
  },
  {
   "cell_type": "code",
   "execution_count": 24,
   "metadata": {},
   "outputs": [
    {
     "data": {
      "text/plain": [
       "[{'who': 'driver', 'type': 'debit', 'amount': 8800.0},\n",
       " {'who': 'owner', 'type': 'credit', 'amount': 4760.0},\n",
       " {'who': 'insurance', 'type': 'credit', 'amount': 1020.0},\n",
       " {'who': 'assistance', 'type': 'credit', 'amount': 200},\n",
       " {'who': 'drivy', 'type': 'credit', 'amount': 2820.0}]"
      ]
     },
     "execution_count": 24,
     "metadata": {},
     "output_type": "execute_result"
    }
   ],
   "source": [
    "my_rent.actions"
   ]
  },
  {
   "cell_type": "markdown",
   "metadata": {},
   "source": [
    "#"
   ]
  },
  {
   "cell_type": "markdown",
   "metadata": {},
   "source": [
    "## <center><u> Test : </u></center>"
   ]
  },
  {
   "cell_type": "code",
   "execution_count": 25,
   "metadata": {},
   "outputs": [],
   "source": [
    "import json"
   ]
  },
  {
   "cell_type": "code",
   "execution_count": 26,
   "metadata": {},
   "outputs": [],
   "source": [
    "#Load cars\n",
    "def load_cars(input_data_cars):\n",
    "    list_cars = []\n",
    "\n",
    "    for car in input_data_cars:\n",
    "        veh = Vehicle(car['id'], car['price_per_day'], car['price_per_km'])\n",
    "        list_cars.append(veh)\n",
    "    \n",
    "    return list_cars"
   ]
  },
  {
   "cell_type": "code",
   "execution_count": 27,
   "metadata": {},
   "outputs": [],
   "source": [
    "#Load rentals\n",
    "def load_rentals(input_data, list_cars):\n",
    "    \n",
    "    #Load rentals\n",
    "    list_rentals = []\n",
    "\n",
    "    for rental in input_data['rentals']:\n",
    "\n",
    "        #Get rental vehicle\n",
    "        for car in list_cars:\n",
    "            if(car.car_id == rental['car_id']):\n",
    "                rent_veh = car \n",
    "\n",
    "        rent = Rental(rental['id'], rent_veh, rental['start_date'], rental['end_date'], rental['distance'])\n",
    "        \n",
    "        #Load options\n",
    "        if \"options\" in input_data.keys():\n",
    "            rental_options = []\n",
    "            for option in input_data[\"options\"]:\n",
    "                if(option[\"rental_id\"] == rent.rent_id):\n",
    "                    rental_options.append(option[\"type\"])\n",
    "            \n",
    "            rent.add_options(rental_options)\n",
    "        \n",
    "        list_rentals.append(rent)\n",
    "        \n",
    "    return list_rentals"
   ]
  },
  {
   "cell_type": "code",
   "execution_count": 28,
   "metadata": {},
   "outputs": [],
   "source": [
    "def load_data(filename):\n",
    "    \n",
    "    with open(filename) as inputfile:\n",
    "        input_data = json.load(inputfile)\n",
    "    \n",
    "    list_cars = load_cars(input_data[\"cars\"])\n",
    "    list_rentals = load_rentals(input_data, list_cars)\n",
    "    \n",
    "    return list_cars, list_rentals"
   ]
  },
  {
   "cell_type": "code",
   "execution_count": 29,
   "metadata": {},
   "outputs": [],
   "source": [
    "def write_output(list_rentals, output_file):\n",
    "    \n",
    "    list_output_rentals = []\n",
    "\n",
    "    for rental in list_rentals : \n",
    "\n",
    "        output_rental = {\n",
    "            \"id\": rental.rent_id,\n",
    "            \"options\": rental.options,\n",
    "            \"actions\": rental.actions\n",
    "        }\n",
    "\n",
    "        list_output_rentals.append(output_rental)\n",
    "\n",
    "    output = {\n",
    "        \"rentals\" : list_output_rentals\n",
    "    }\n",
    "\n",
    "    with open(output_file, 'w') as fp:\n",
    "        json.dump(output, fp)"
   ]
  },
  {
   "cell_type": "code",
   "execution_count": 30,
   "metadata": {},
   "outputs": [],
   "source": [
    "import json\n",
    "\n",
    "def test(input_file, output_name):\n",
    "    list_cars, list_rentals = load_data(input_file)\n",
    "    write_output(list_rentals, output_name)\n",
    "    "
   ]
  },
  {
   "cell_type": "code",
   "execution_count": null,
   "metadata": {},
   "outputs": [],
   "source": [
    "test(\"data/input.json\", \"data/output_2.json\")"
   ]
  }
 ],
 "metadata": {
  "kernelspec": {
   "display_name": "Python 3",
   "language": "python",
   "name": "python3"
  },
  "language_info": {
   "codemirror_mode": {
    "name": "ipython",
    "version": 3
   },
   "file_extension": ".py",
   "mimetype": "text/x-python",
   "name": "python",
   "nbconvert_exporter": "python",
   "pygments_lexer": "ipython3",
   "version": "3.7.3"
  }
 },
 "nbformat": 4,
 "nbformat_minor": 4
}
